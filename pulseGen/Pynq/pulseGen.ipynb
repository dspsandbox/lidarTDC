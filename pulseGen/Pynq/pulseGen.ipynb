{
 "cells": [
  {
   "cell_type": "code",
   "execution_count": 1,
   "metadata": {},
   "outputs": [
    {
     "data": {
      "application/javascript": [
       "\n",
       "try {\n",
       "require(['notebook/js/codecell'], function(codecell) {\n",
       "  codecell.CodeCell.options_default.highlight_modes[\n",
       "      'magic_text/x-csrc'] = {'reg':[/^%%microblaze/]};\n",
       "  Jupyter.notebook.events.one('kernel_ready.Kernel', function(){\n",
       "      Jupyter.notebook.get_cells().map(function(cell){\n",
       "          if (cell.cell_type == 'code'){ cell.auto_highlight(); } }) ;\n",
       "  });\n",
       "});\n",
       "} catch (e) {};\n"
      ]
     },
     "metadata": {},
     "output_type": "display_data"
    }
   ],
   "source": [
    "import time\n",
    "import sys\n",
    "from pynq import Overlay, MMIO, allocate\n",
    "from pynq import MMIO\n",
    "import numpy as np\n",
    "ol = Overlay(\"pulseGen.bit\")\n",
    "\n",
    "class PulseGen():\n",
    "    def __init__(self,GPIO_ADDRESS,GPIO_RANGE,DMA_ADDRESS,DMA_RANGE):\n",
    "        self.gpio = MMIO(GPIO_ADDRESS, GPIO_RANGE)\n",
    "        self.dma = MMIO(DMA_ADDRESS, DMA_RANGE)\n",
    "        self.gpioDataOut=0\n",
    "        \n",
    "    def setResetn(self,val):\n",
    "        mask=0b11111111111111111111111110\n",
    "        self.gpioDataOut=(self.gpioDataOut & mask) | (val << 0)\n",
    "        self.gpio.write(0, self.gpioDataOut)\n",
    "        return\n",
    "    def setTrig(self,val):\n",
    "        mask=0b11111111111111111111111101\n",
    "        self.gpioDataOut=(self.gpioDataOut & mask) | (val << 1)\n",
    "        self.gpio.write(0, self.gpioDataOut)\n",
    "        return\n",
    "    def setPulseWidth(self,val):\n",
    "        mask=0b00000000000000000000000011\n",
    "        self.gpioDataOut=(self.gpioDataOut & mask) | (val << 2)\n",
    "        self.gpio.write(0, self.gpioDataOut)\n",
    "        return\n",
    "    def getState(self):\n",
    "        return self.gpio.read(0x0008) & 0b111\n",
    "    \n",
    "    def getStreamDownCounter(self):\n",
    "        return (self.gpio.read(0x0008) >> 3)\n",
    "        \n",
    "    def dmaMM2SIsIdle(self):\n",
    "        isIdle=bool(self.dma.read(0x4) & (1<<1))\n",
    "        return isIdle\n",
    "    \n",
    "    def dmaMM2SConfig(self,bufferAddress):\n",
    "        self.dma.write(0x18,bufferAddress)\n",
    "        return\n",
    "    \n",
    "    def dmaMM2SRun(self,bufferBytesLen):\n",
    "        self.dma.write(0x28,bufferBytesLen)\n",
    "        return\n",
    "    \n",
    "    def dmaMM2SReset(self):\n",
    "        self.dma.write(0x0,4)\n",
    "        return\n",
    "    \n",
    "    def dmaMM2SHalt(self):\n",
    "        self.dma.write(0x0,0)\n",
    "        return \n",
    "    \n",
    "    def dmaMM2SStart(self):\n",
    "        self.dma.write(0x0,0x0001)"
   ]
  },
  {
   "cell_type": "code",
   "execution_count": 2,
   "metadata": {},
   "outputs": [
    {
     "name": "stdout",
     "output_type": "stream",
     "text": [
      "Execution of pulse generator finished.\n",
      "Stream down counter: 7\n",
      "Current state: 1 (0->off 1->idle 2->run 4->error)\n"
     ]
    }
   ],
   "source": [
    "####################################################\n",
    "# Parameters\n",
    "####################################################\n",
    "# Physical addresses\n",
    "GPIO_ADDRESS=0x41200000\n",
    "GPIO_RANGE=0x10000\n",
    "DMA_ADDRESS=0x40400000\n",
    "DMA_RANGE=0x10000\n",
    "\n",
    "#Pulse parameters\n",
    "PULSE_WIDTH=5 # In units of 10ns\n",
    "\n",
    "#Pulse lists\n",
    "counterList=[1,11,12,20,31,32,33] # Sarting point of each pulse. In units of 10ns. \n",
    "timestampList=[0,0,0,0,0,0,0]     # 8 bit timestamp of each pulse\n",
    "maskList=[1,2,1,7,4,2,1]          # Port mask of each pulse\n",
    "\n",
    "\n",
    "####################################################\n",
    "# Instantiations and memory allocations\n",
    "####################################################\n",
    "pulseGen=PulseGen(GPIO_ADDRESS,GPIO_RANGE,DMA_ADDRESS,DMA_RANGE)      \n",
    "bufferLen=len(counterList)\n",
    "bufferType=np.uint64\n",
    "\n",
    "buffer = allocate(bufferLen, dtype=bufferType)\n",
    "bufferAddress=buffer.physical_address\n",
    "bufferBytesLen=buffer.nbytes\n",
    "\n",
    "####################################################\n",
    "# Initial config\n",
    "####################################################\n",
    "pulseGen.setPulseWidth(PULSE_WIDTH)\n",
    "pulseGen.dmaMM2SHalt()\n",
    "pulseGen.dmaMM2SReset()\n",
    "pulseGen.dmaMM2SConfig(bufferAddress)\n",
    "pulseGen.dmaMM2SStart()\n",
    "\n",
    "####################################################\n",
    "# Load data into buffer\n",
    "####################################################\n",
    "for i in range(bufferLen):\n",
    "    buffer[i]= (maskList[i] << 32) | (timestampList[i] << 24)  + counterList[i] \n",
    "\n",
    "####################################################\n",
    "#  Run pulse generator\n",
    "####################################################\n",
    "pulseGen.setResetn(1)                        #Enable pulse generator core\n",
    "pulseGen.dmaMM2SRun(bufferBytesLen)          #Run DMA engine\n",
    "pulseGen.setTrig(1)                          #Generate trigger HIGH (starts pulse generator core)\n",
    "pulseGen.setTrig(0)                          #Generate trigger HIGH\n",
    "while(pulseGen.getState==(1<<1)): pass       #Wait for pulse generator to finish\n",
    "print(\"Execution of pulse generator finished.\\nStream down counter: {}\\nCurrent state: {} (0->off 1->idle 2->run 4->error)\".format(pulseGen.getStreamDownCounter(),pulseGen.getState()))\n"
   ]
  },
  {
   "cell_type": "code",
   "execution_count": null,
   "metadata": {},
   "outputs": [],
   "source": []
  }
 ],
 "metadata": {
  "kernelspec": {
   "display_name": "Python 3",
   "language": "python",
   "name": "python3"
  },
  "language_info": {
   "codemirror_mode": {
    "name": "ipython",
    "version": 3
   },
   "file_extension": ".py",
   "mimetype": "text/x-python",
   "name": "python",
   "nbconvert_exporter": "python",
   "pygments_lexer": "ipython3",
   "version": "3.6.5"
  }
 },
 "nbformat": 4,
 "nbformat_minor": 2
}
