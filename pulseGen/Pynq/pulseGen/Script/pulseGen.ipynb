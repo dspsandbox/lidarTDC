{
 "cells": [
  {
   "cell_type": "code",
   "execution_count": 27,
   "metadata": {},
   "outputs": [],
   "source": [
    "import time\n",
    "import sys\n",
    "from pynq import Overlay, MMIO, allocate\n",
    "from pynq import MMIO\n",
    "import numpy as np\n",
    "ol = Overlay(\"pulseGen.bit\")"
   ]
  },
  {
   "cell_type": "code",
   "execution_count": 34,
   "metadata": {},
   "outputs": [
    {
     "name": "stdout",
     "output_type": "stream",
     "text": [
      "0.0024366378784179688\n"
     ]
    }
   ],
   "source": [
    "GPIO_ADDRESS=0x41200000\n",
    "GPIO_RANGE=0x10000\n",
    "DMA_ADDRESS=0x40400000\n",
    "DMA_RANGE=0x10000\n",
    "PULSE_DURATION=5\n",
    "\n",
    "counterList=np.arange(100,50000,10)\n",
    "timestampList=[0,]*len(counterList)\n",
    "maskList=[1,]*len(counterList)\n",
    "\n",
    "counterList=np.arange(100,50000,10)\n",
    "timestampList=np.array(timestampList)\n",
    "maskList=np.array(maskList)\n",
    "\n",
    "class PulseGen():\n",
    "    def __init__(self,GPIO_ADDRESS,GPIO_RANGE,DMA_ADDRESS,DMA_RANGE):\n",
    "        self.gpio = MMIO(GPIO_ADDRESS, GPIO_RANGE)\n",
    "        self.dma = MMIO(DMA_ADDRESS, DMA_RANGE)\n",
    "        self.gpioDataOut=0\n",
    "        \n",
    "    def setResetn(self,val):\n",
    "        mask=0b11111111111111111111111110\n",
    "        self.gpioDataOut=(self.gpioDataOut & mask) | (val << 0)\n",
    "        self.gpio.write(0, self.gpioDataOut)\n",
    "        return\n",
    "    def setTrig(self,val):\n",
    "        mask=0b11111111111111111111111101\n",
    "        self.gpioDataOut=(self.gpioDataOut & mask) | (val << 1)\n",
    "        self.gpio.write(0, self.gpioDataOut)\n",
    "        return\n",
    "    def setPulseDuration(self,val):\n",
    "        mask=0b00000000000000000000000011\n",
    "        self.gpioDataOut=(self.gpioDataOut & mask) | (val << 2)\n",
    "        self.gpio.write(0, self.gpioDataOut)\n",
    "        return\n",
    "    def getState(self):\n",
    "        return self.gpio.read(0x0008)\n",
    "        \n",
    "    def dmaIsIdle(self):\n",
    "        isIdle=bool(self.dma.read(0x4) & (1<<1))\n",
    "        return isIdle\n",
    "    \n",
    "    def dmaConfig(self,bufferAddress):\n",
    "        self.dma.write(0x18,bufferAddress)\n",
    "        return\n",
    "    \n",
    "    def dmaRun(self,bufferBytesLen):\n",
    "        self.dma.write(0x28,bufferLen)\n",
    "        return\n",
    "    \n",
    "    def dmaStart(self):\n",
    "        self.dma.write(0x0,(1<<16)|1)\n",
    "        return \n",
    "    \n",
    "    def dmaStop(self):\n",
    "        self.dma.write(0x0,0)\n",
    "        return \n",
    "\n",
    "    \n",
    "pulseGen=PulseGen(GPIO_ADDRESS,GPIO_RANGE,DMA_ADDRESS,DMA_RANGE)      \n",
    "\n",
    "\n",
    "\n",
    "bufferLen=len(counterList)\n",
    "bufferType=np.uint64\n",
    "\n",
    "\n",
    "buffer = allocate(bufferLen, dtype=bufferType)\n",
    "bufferAddress=buffer.physical_address\n",
    "bufferBytesLen=buffer.nbytes\n",
    "\n",
    "pulseGen.setPulseDuration(PULSE_DURATION)\n",
    "pulseGen.dmaStart()\n",
    "pulseGen.dmaConfig(bufferAddress)\n",
    "\n",
    "for i in range(bufferLen):\n",
    "    buffer[i]=(maskList[i]<<32)| (timestampList[i]<<24) | counterList[i]\n",
    "    \n",
    "t=time.time()\n",
    "pulseGen.setResetn(1)\n",
    "pulseGen.dmaRun(bufferBytesLen)\n",
    "pulseGen.setTrig(1)\n",
    "pulseGen.setTrig(0)\n",
    "while(not(pulseGen.dmaIsIdle())): pass\n",
    "pulseGen.setResetn(0)\n",
    "print(time.time()-t)\n"
   ]
  },
  {
   "cell_type": "code",
   "execution_count": null,
   "metadata": {},
   "outputs": [],
   "source": []
  }
 ],
 "metadata": {
  "kernelspec": {
   "display_name": "Python 3",
   "language": "python",
   "name": "python3"
  },
  "language_info": {
   "codemirror_mode": {
    "name": "ipython",
    "version": 3
   },
   "file_extension": ".py",
   "mimetype": "text/x-python",
   "name": "python",
   "nbconvert_exporter": "python",
   "pygments_lexer": "ipython3",
   "version": "3.6.5"
  }
 },
 "nbformat": 4,
 "nbformat_minor": 2
}
